{
 "cells": [
  {
   "cell_type": "code",
   "execution_count": 2,
   "id": "ruled-conspiracy",
   "metadata": {},
   "outputs": [],
   "source": [
    "import pandas as pd"
   ]
  },
  {
   "cell_type": "code",
   "execution_count": 113,
   "id": "welcome-treatment",
   "metadata": {},
   "outputs": [],
   "source": [
    "df=pd.read_csv('data.csv')"
   ]
  },
  {
   "cell_type": "code",
   "execution_count": 4,
   "id": "correct-consortium",
   "metadata": {},
   "outputs": [
    {
     "data": {
      "text/html": [
       "<div>\n",
       "<style scoped>\n",
       "    .dataframe tbody tr th:only-of-type {\n",
       "        vertical-align: middle;\n",
       "    }\n",
       "\n",
       "    .dataframe tbody tr th {\n",
       "        vertical-align: top;\n",
       "    }\n",
       "\n",
       "    .dataframe thead th {\n",
       "        text-align: right;\n",
       "    }\n",
       "</style>\n",
       "<table border=\"1\" class=\"dataframe\">\n",
       "  <thead>\n",
       "    <tr style=\"text-align: right;\">\n",
       "      <th></th>\n",
       "      <th>FEVER</th>\n",
       "      <th>BODYPAIN</th>\n",
       "      <th>RUNNYNOSE</th>\n",
       "      <th>DIFFIBREATHING</th>\n",
       "      <th>Age</th>\n",
       "      <th>Outside Visit</th>\n",
       "      <th>Throat Pain</th>\n",
       "      <th>dry cough</th>\n",
       "      <th>loss of taste</th>\n",
       "      <th>loss of smell</th>\n",
       "      <th>INFECTIONPROB</th>\n",
       "    </tr>\n",
       "  </thead>\n",
       "  <tbody>\n",
       "    <tr>\n",
       "      <th>0</th>\n",
       "      <td>99.052431</td>\n",
       "      <td>1</td>\n",
       "      <td>0</td>\n",
       "      <td>-1</td>\n",
       "      <td>44</td>\n",
       "      <td>0</td>\n",
       "      <td>1</td>\n",
       "      <td>0</td>\n",
       "      <td>1</td>\n",
       "      <td>0</td>\n",
       "      <td>1</td>\n",
       "    </tr>\n",
       "    <tr>\n",
       "      <th>1</th>\n",
       "      <td>100.002906</td>\n",
       "      <td>1</td>\n",
       "      <td>1</td>\n",
       "      <td>0</td>\n",
       "      <td>71</td>\n",
       "      <td>1</td>\n",
       "      <td>0</td>\n",
       "      <td>1</td>\n",
       "      <td>0</td>\n",
       "      <td>1</td>\n",
       "      <td>0</td>\n",
       "    </tr>\n",
       "    <tr>\n",
       "      <th>2</th>\n",
       "      <td>99.805554</td>\n",
       "      <td>1</td>\n",
       "      <td>0</td>\n",
       "      <td>-1</td>\n",
       "      <td>56</td>\n",
       "      <td>0</td>\n",
       "      <td>0</td>\n",
       "      <td>0</td>\n",
       "      <td>0</td>\n",
       "      <td>0</td>\n",
       "      <td>1</td>\n",
       "    </tr>\n",
       "    <tr>\n",
       "      <th>3</th>\n",
       "      <td>98.590617</td>\n",
       "      <td>0</td>\n",
       "      <td>1</td>\n",
       "      <td>0</td>\n",
       "      <td>98</td>\n",
       "      <td>1</td>\n",
       "      <td>0</td>\n",
       "      <td>1</td>\n",
       "      <td>1</td>\n",
       "      <td>1</td>\n",
       "      <td>1</td>\n",
       "    </tr>\n",
       "    <tr>\n",
       "      <th>4</th>\n",
       "      <td>98.213178</td>\n",
       "      <td>0</td>\n",
       "      <td>1</td>\n",
       "      <td>0</td>\n",
       "      <td>63</td>\n",
       "      <td>0</td>\n",
       "      <td>0</td>\n",
       "      <td>0</td>\n",
       "      <td>1</td>\n",
       "      <td>0</td>\n",
       "      <td>0</td>\n",
       "    </tr>\n",
       "  </tbody>\n",
       "</table>\n",
       "</div>"
      ],
      "text/plain": [
       "        FEVER  BODYPAIN  RUNNYNOSE  DIFFIBREATHING  Age  Outside Visit   \\\n",
       "0   99.052431         1          0              -1   44               0   \n",
       "1  100.002906         1          1               0   71               1   \n",
       "2   99.805554         1          0              -1   56               0   \n",
       "3   98.590617         0          1               0   98               1   \n",
       "4   98.213178         0          1               0   63               0   \n",
       "\n",
       "   Throat Pain  dry cough  loss of taste   loss of smell  INFECTIONPROB  \n",
       "0            1          0               1              0              1  \n",
       "1            0          1               0              1              0  \n",
       "2            0          0               0              0              1  \n",
       "3            0          1               1              1              1  \n",
       "4            0          0               1              0              0  "
      ]
     },
     "execution_count": 4,
     "metadata": {},
     "output_type": "execute_result"
    }
   ],
   "source": [
    "df.head()"
   ]
  },
  {
   "cell_type": "code",
   "execution_count": 5,
   "id": "english-token",
   "metadata": {},
   "outputs": [
    {
     "data": {
      "text/html": [
       "<div>\n",
       "<style scoped>\n",
       "    .dataframe tbody tr th:only-of-type {\n",
       "        vertical-align: middle;\n",
       "    }\n",
       "\n",
       "    .dataframe tbody tr th {\n",
       "        vertical-align: top;\n",
       "    }\n",
       "\n",
       "    .dataframe thead th {\n",
       "        text-align: right;\n",
       "    }\n",
       "</style>\n",
       "<table border=\"1\" class=\"dataframe\">\n",
       "  <thead>\n",
       "    <tr style=\"text-align: right;\">\n",
       "      <th></th>\n",
       "      <th>FEVER</th>\n",
       "      <th>BODYPAIN</th>\n",
       "      <th>RUNNYNOSE</th>\n",
       "      <th>DIFFIBREATHING</th>\n",
       "      <th>Age</th>\n",
       "      <th>Outside Visit</th>\n",
       "      <th>Throat Pain</th>\n",
       "      <th>dry cough</th>\n",
       "      <th>loss of taste</th>\n",
       "      <th>loss of smell</th>\n",
       "      <th>INFECTIONPROB</th>\n",
       "    </tr>\n",
       "  </thead>\n",
       "  <tbody>\n",
       "    <tr>\n",
       "      <th>2024</th>\n",
       "      <td>101.974591</td>\n",
       "      <td>1</td>\n",
       "      <td>1</td>\n",
       "      <td>1</td>\n",
       "      <td>33</td>\n",
       "      <td>0</td>\n",
       "      <td>1</td>\n",
       "      <td>1</td>\n",
       "      <td>1</td>\n",
       "      <td>1</td>\n",
       "      <td>1</td>\n",
       "    </tr>\n",
       "    <tr>\n",
       "      <th>2025</th>\n",
       "      <td>98.203426</td>\n",
       "      <td>0</td>\n",
       "      <td>0</td>\n",
       "      <td>1</td>\n",
       "      <td>1</td>\n",
       "      <td>51</td>\n",
       "      <td>0</td>\n",
       "      <td>0</td>\n",
       "      <td>1</td>\n",
       "      <td>0</td>\n",
       "      <td>1</td>\n",
       "    </tr>\n",
       "    <tr>\n",
       "      <th>2026</th>\n",
       "      <td>99.087463</td>\n",
       "      <td>1</td>\n",
       "      <td>1</td>\n",
       "      <td>1</td>\n",
       "      <td>0</td>\n",
       "      <td>12</td>\n",
       "      <td>1</td>\n",
       "      <td>1</td>\n",
       "      <td>1</td>\n",
       "      <td>1</td>\n",
       "      <td>0</td>\n",
       "    </tr>\n",
       "    <tr>\n",
       "      <th>2027</th>\n",
       "      <td>98.555799</td>\n",
       "      <td>0</td>\n",
       "      <td>0</td>\n",
       "      <td>0</td>\n",
       "      <td>1</td>\n",
       "      <td>18</td>\n",
       "      <td>0</td>\n",
       "      <td>1</td>\n",
       "      <td>1</td>\n",
       "      <td>0</td>\n",
       "      <td>0</td>\n",
       "    </tr>\n",
       "    <tr>\n",
       "      <th>2028</th>\n",
       "      <td>98.769506</td>\n",
       "      <td>1</td>\n",
       "      <td>1</td>\n",
       "      <td>-1</td>\n",
       "      <td>0</td>\n",
       "      <td>90</td>\n",
       "      <td>1</td>\n",
       "      <td>1</td>\n",
       "      <td>0</td>\n",
       "      <td>0</td>\n",
       "      <td>0</td>\n",
       "    </tr>\n",
       "  </tbody>\n",
       "</table>\n",
       "</div>"
      ],
      "text/plain": [
       "           FEVER  BODYPAIN  RUNNYNOSE  DIFFIBREATHING  Age  Outside Visit   \\\n",
       "2024  101.974591         1          1               1   33               0   \n",
       "2025   98.203426         0          0               1    1              51   \n",
       "2026   99.087463         1          1               1    0              12   \n",
       "2027   98.555799         0          0               0    1              18   \n",
       "2028   98.769506         1          1              -1    0              90   \n",
       "\n",
       "      Throat Pain  dry cough  loss of taste   loss of smell  INFECTIONPROB  \n",
       "2024            1          1               1              1              1  \n",
       "2025            0          0               1              0              1  \n",
       "2026            1          1               1              1              0  \n",
       "2027            0          1               1              0              0  \n",
       "2028            1          1               0              0              0  "
      ]
     },
     "execution_count": 5,
     "metadata": {},
     "output_type": "execute_result"
    }
   ],
   "source": [
    "df.tail()"
   ]
  },
  {
   "cell_type": "code",
   "execution_count": 6,
   "id": "potential-cycling",
   "metadata": {},
   "outputs": [
    {
     "data": {
      "text/html": [
       "<div>\n",
       "<style scoped>\n",
       "    .dataframe tbody tr th:only-of-type {\n",
       "        vertical-align: middle;\n",
       "    }\n",
       "\n",
       "    .dataframe tbody tr th {\n",
       "        vertical-align: top;\n",
       "    }\n",
       "\n",
       "    .dataframe thead th {\n",
       "        text-align: right;\n",
       "    }\n",
       "</style>\n",
       "<table border=\"1\" class=\"dataframe\">\n",
       "  <thead>\n",
       "    <tr style=\"text-align: right;\">\n",
       "      <th></th>\n",
       "      <th>FEVER</th>\n",
       "      <th>BODYPAIN</th>\n",
       "      <th>RUNNYNOSE</th>\n",
       "      <th>DIFFIBREATHING</th>\n",
       "      <th>Age</th>\n",
       "      <th>Outside Visit</th>\n",
       "      <th>Throat Pain</th>\n",
       "      <th>dry cough</th>\n",
       "      <th>loss of taste</th>\n",
       "      <th>loss of smell</th>\n",
       "      <th>INFECTIONPROB</th>\n",
       "    </tr>\n",
       "  </thead>\n",
       "  <tbody>\n",
       "    <tr>\n",
       "      <th>count</th>\n",
       "      <td>2029.000000</td>\n",
       "      <td>2029.000000</td>\n",
       "      <td>2029.000000</td>\n",
       "      <td>2029.000000</td>\n",
       "      <td>2029.000000</td>\n",
       "      <td>2029.000000</td>\n",
       "      <td>2029.000000</td>\n",
       "      <td>2029.000000</td>\n",
       "      <td>2029.000000</td>\n",
       "      <td>2029.000000</td>\n",
       "      <td>2029.000000</td>\n",
       "    </tr>\n",
       "    <tr>\n",
       "      <th>mean</th>\n",
       "      <td>99.987538</td>\n",
       "      <td>0.495318</td>\n",
       "      <td>0.511089</td>\n",
       "      <td>0.019221</td>\n",
       "      <td>53.185806</td>\n",
       "      <td>0.586989</td>\n",
       "      <td>0.497289</td>\n",
       "      <td>0.482997</td>\n",
       "      <td>0.505175</td>\n",
       "      <td>0.497782</td>\n",
       "      <td>0.504682</td>\n",
       "    </tr>\n",
       "    <tr>\n",
       "      <th>std</th>\n",
       "      <td>1.159900</td>\n",
       "      <td>0.500101</td>\n",
       "      <td>0.500000</td>\n",
       "      <td>0.820187</td>\n",
       "      <td>30.311735</td>\n",
       "      <td>2.380258</td>\n",
       "      <td>0.500116</td>\n",
       "      <td>0.499834</td>\n",
       "      <td>0.500096</td>\n",
       "      <td>0.500118</td>\n",
       "      <td>0.500101</td>\n",
       "    </tr>\n",
       "    <tr>\n",
       "      <th>min</th>\n",
       "      <td>98.004523</td>\n",
       "      <td>0.000000</td>\n",
       "      <td>0.000000</td>\n",
       "      <td>-1.000000</td>\n",
       "      <td>0.000000</td>\n",
       "      <td>0.000000</td>\n",
       "      <td>0.000000</td>\n",
       "      <td>0.000000</td>\n",
       "      <td>0.000000</td>\n",
       "      <td>0.000000</td>\n",
       "      <td>0.000000</td>\n",
       "    </tr>\n",
       "    <tr>\n",
       "      <th>25%</th>\n",
       "      <td>98.969617</td>\n",
       "      <td>0.000000</td>\n",
       "      <td>0.000000</td>\n",
       "      <td>-1.000000</td>\n",
       "      <td>27.000000</td>\n",
       "      <td>0.000000</td>\n",
       "      <td>0.000000</td>\n",
       "      <td>0.000000</td>\n",
       "      <td>0.000000</td>\n",
       "      <td>0.000000</td>\n",
       "      <td>0.000000</td>\n",
       "    </tr>\n",
       "    <tr>\n",
       "      <th>50%</th>\n",
       "      <td>99.997700</td>\n",
       "      <td>0.000000</td>\n",
       "      <td>1.000000</td>\n",
       "      <td>0.000000</td>\n",
       "      <td>54.000000</td>\n",
       "      <td>1.000000</td>\n",
       "      <td>0.000000</td>\n",
       "      <td>0.000000</td>\n",
       "      <td>1.000000</td>\n",
       "      <td>0.000000</td>\n",
       "      <td>1.000000</td>\n",
       "    </tr>\n",
       "    <tr>\n",
       "      <th>75%</th>\n",
       "      <td>100.995996</td>\n",
       "      <td>1.000000</td>\n",
       "      <td>1.000000</td>\n",
       "      <td>1.000000</td>\n",
       "      <td>80.000000</td>\n",
       "      <td>1.000000</td>\n",
       "      <td>1.000000</td>\n",
       "      <td>1.000000</td>\n",
       "      <td>1.000000</td>\n",
       "      <td>1.000000</td>\n",
       "      <td>1.000000</td>\n",
       "    </tr>\n",
       "    <tr>\n",
       "      <th>max</th>\n",
       "      <td>101.996631</td>\n",
       "      <td>1.000000</td>\n",
       "      <td>1.000000</td>\n",
       "      <td>1.000000</td>\n",
       "      <td>105.000000</td>\n",
       "      <td>90.000000</td>\n",
       "      <td>1.000000</td>\n",
       "      <td>1.000000</td>\n",
       "      <td>1.000000</td>\n",
       "      <td>1.000000</td>\n",
       "      <td>1.000000</td>\n",
       "    </tr>\n",
       "  </tbody>\n",
       "</table>\n",
       "</div>"
      ],
      "text/plain": [
       "             FEVER     BODYPAIN    RUNNYNOSE  DIFFIBREATHING          Age  \\\n",
       "count  2029.000000  2029.000000  2029.000000     2029.000000  2029.000000   \n",
       "mean     99.987538     0.495318     0.511089        0.019221    53.185806   \n",
       "std       1.159900     0.500101     0.500000        0.820187    30.311735   \n",
       "min      98.004523     0.000000     0.000000       -1.000000     0.000000   \n",
       "25%      98.969617     0.000000     0.000000       -1.000000    27.000000   \n",
       "50%      99.997700     0.000000     1.000000        0.000000    54.000000   \n",
       "75%     100.995996     1.000000     1.000000        1.000000    80.000000   \n",
       "max     101.996631     1.000000     1.000000        1.000000   105.000000   \n",
       "\n",
       "       Outside Visit   Throat Pain    dry cough  loss of taste   \\\n",
       "count     2029.000000  2029.000000  2029.000000     2029.000000   \n",
       "mean         0.586989     0.497289     0.482997        0.505175   \n",
       "std          2.380258     0.500116     0.499834        0.500096   \n",
       "min          0.000000     0.000000     0.000000        0.000000   \n",
       "25%          0.000000     0.000000     0.000000        0.000000   \n",
       "50%          1.000000     0.000000     0.000000        1.000000   \n",
       "75%          1.000000     1.000000     1.000000        1.000000   \n",
       "max         90.000000     1.000000     1.000000        1.000000   \n",
       "\n",
       "       loss of smell  INFECTIONPROB  \n",
       "count    2029.000000    2029.000000  \n",
       "mean        0.497782       0.504682  \n",
       "std         0.500118       0.500101  \n",
       "min         0.000000       0.000000  \n",
       "25%         0.000000       0.000000  \n",
       "50%         0.000000       1.000000  \n",
       "75%         1.000000       1.000000  \n",
       "max         1.000000       1.000000  "
      ]
     },
     "execution_count": 6,
     "metadata": {},
     "output_type": "execute_result"
    }
   ],
   "source": [
    "df.describe()"
   ]
  },
  {
   "cell_type": "code",
   "execution_count": 60,
   "id": "raised-reducing",
   "metadata": {},
   "outputs": [],
   "source": [
    "import numpy as np\n",
    "from sklearn.linear_model import LogisticRegression"
   ]
  },
  {
   "cell_type": "code",
   "execution_count": 136,
   "id": "precious-niagara",
   "metadata": {},
   "outputs": [],
   "source": [
    "def data_split(data,ratio):\n",
    "    np.random.seed(42)\n",
    "    shuffled=np.random.permutation(len(data))\n",
    "    test_set_size=int(len(data)*ratio)\n",
    "    test_indices=shuffled[:test_set_size]\n",
    "    train_indices=shuffled[test_set_size:]\n",
    "    return data.iloc[train_indices],data.iloc[test_indices]\n",
    "df.dropna(inplace=True)\n",
    "train,test = data_split(df,0.2)\n",
    "   "
   ]
  },
  {
   "cell_type": "code",
   "execution_count": 8,
   "id": "massive-procurement",
   "metadata": {},
   "outputs": [
    {
     "data": {
      "text/plain": [
       "array([3, 2, 6, 1, 4, 5, 0])"
      ]
     },
     "execution_count": 8,
     "metadata": {},
     "output_type": "execute_result"
    }
   ],
   "source": [
    "np.random.permutation(7)"
   ]
  },
  {
   "cell_type": "code",
   "execution_count": 96,
   "id": "hidden-daisy",
   "metadata": {},
   "outputs": [],
   "source": [
    "from sklearn.linear_model import LogisticRegression"
   ]
  },
  {
   "cell_type": "code",
   "execution_count": 99,
   "id": "french-cornell",
   "metadata": {},
   "outputs": [],
   "source": [
    "X_train=train.reindex([['FEVER','BODYPAIN','RUNNYNOSE','DIFFIBREATHING','Age','Outside Visit','Throat Pain','dry cough','loss of taste','loss of smell']]).to_numpy()"
   ]
  },
  {
   "cell_type": "code",
   "execution_count": 100,
   "id": "medical-calculation",
   "metadata": {},
   "outputs": [],
   "source": [
    "X_test=test.reindex([['FEVER','BODYPAIN','RUNNYNOSE','DIFFIBREATHING','Age','Outside Visit','Throat Pain','dry cough','loss of taste','loss of smell']]).to_numpy()\n",
    "Y_train=train['INFECTIONPROB'].to_numpy().reshape(1624,)"
   ]
  },
  {
   "cell_type": "code",
   "execution_count": 112,
   "id": "overall-stage",
   "metadata": {},
   "outputs": [],
   "source": [
    "Y_test=test['INFECTIONPROB'].to_numpy().reshape(405,)\n",
    "Y_train=train['INFECTIONPROB'].to_numpy().reshape(1624,)\n"
   ]
  },
  {
   "cell_type": "code",
   "execution_count": 109,
   "id": "funky-ottawa",
   "metadata": {},
   "outputs": [],
   "source": [
    "clf=LogisticRegression()"
   ]
  },
  {
   "cell_type": "code",
   "execution_count": 129,
   "id": "rocky-palestine",
   "metadata": {},
   "outputs": [
    {
     "data": {
      "text/plain": [
       "True"
      ]
     },
     "execution_count": 129,
     "metadata": {},
     "output_type": "execute_result"
    }
   ],
   "source": []
  },
  {
   "cell_type": "code",
   "execution_count": 143,
   "id": "caring-thickness",
   "metadata": {},
   "outputs": [],
   "source": [
    "X_train=train[['FEVER','BODYPAIN','RUNNYNOSE','DIFFIBREATHING','Age','Outside Visit ','Throat Pain','dry cough','loss of taste ','loss of smell']].to_numpy()\n",
    "X_test=test[['FEVER','BODYPAIN','RUNNYNOSE','DIFFIBREATHING','Age','Outside Visit ','Throat Pain','dry cough','loss of taste ','loss of smell']].to_numpy()\n",
    "Y_train=train['INFECTIONPROB'].to_numpy().reshape(1624,)\n",
    "Y_test=test['INFECTIONPROB'].to_numpy().reshape(405,)"
   ]
  },
  {
   "cell_type": "code",
   "execution_count": 144,
   "id": "cordless-situation",
   "metadata": {},
   "outputs": [
    {
     "data": {
      "text/plain": [
       "LogisticRegression()"
      ]
     },
     "execution_count": 144,
     "metadata": {},
     "output_type": "execute_result"
    }
   ],
   "source": [
    "clf.fit(X_train,Y_train)"
   ]
  },
  {
   "cell_type": "code",
   "execution_count": 148,
   "id": "abandoned-brisbane",
   "metadata": {},
   "outputs": [],
   "source": [
    "X_train\n",
    "import pickle"
   ]
  },
  {
   "cell_type": "code",
   "execution_count": 151,
   "id": "fatal-helena",
   "metadata": {},
   "outputs": [],
   "source": [
    "file=open('model.pkl','wb')\n",
    "pickle.dump(clf,file)\n",
    "file.close()\n",
    "inputfeature=[100,0,0,1,45,1,0,1,1,1]\n",
    "infprob=clf.predict_proba([inputfeature])[0][1]"
   ]
  },
  {
   "cell_type": "code",
   "execution_count": 152,
   "id": "handled-strand",
   "metadata": {},
   "outputs": [
    {
     "name": "stdout",
     "output_type": "stream",
     "text": [
      "0.4241297088162184\n"
     ]
    }
   ],
   "source": [
    "print(infprob)"
   ]
  }
 ],
 "metadata": {
  "kernelspec": {
   "display_name": "Python 3",
   "language": "python",
   "name": "python3"
  },
  "language_info": {
   "codemirror_mode": {
    "name": "ipython",
    "version": 3
   },
   "file_extension": ".py",
   "mimetype": "text/x-python",
   "name": "python",
   "nbconvert_exporter": "python",
   "pygments_lexer": "ipython3",
   "version": "3.9.1"
  }
 },
 "nbformat": 4,
 "nbformat_minor": 5
}
